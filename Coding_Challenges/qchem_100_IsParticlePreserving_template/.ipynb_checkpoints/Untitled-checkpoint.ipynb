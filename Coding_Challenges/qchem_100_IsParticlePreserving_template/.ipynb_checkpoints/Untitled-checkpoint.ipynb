{
 "cells": [
  {
   "cell_type": "code",
   "execution_count": 69,
   "id": "5cecc535",
   "metadata": {},
   "outputs": [],
   "source": [
    "def binary_list(m, n):                                                                                                                                                                                                                                                          \n",
    "    \"\"\"Converts number m to binary encoded on a list of length n                                                                                                                                                                                                                \n",
    "                                                                                                                                                                                                                                                                                \n",
    "    Args:                                                                                                                                                                                                                                                                       \n",
    "        - m (int): Number to convert to binary                                                                                                                                                                                                                                  \n",
    "        - n (int): Number of wires in the circuit                                                                                                                                                                                                                               \n",
    "                                                                                                                                                                                                                                                                                \n",
    "    Returns:                                                                                                                                                                                                                                                                    \n",
    "        - (list(int)): Binary stored as a list of length n                                                                                                                                                                                                                      \n",
    "    \"\"\"                                                                                                                                                                                                                                                                         \n",
    "                                                                                                                                                                                                                                                                                \n",
    "    arr = []                                                                                                                                                                                                                                                                    \n",
    "    # QHACK #     \n",
    "    arr = [0 for i in range(n)]\n",
    "    binary = bin(m)[2:]  \n",
    "    for i in range(len(binary)):\n",
    "        arr[n-1-i] = int(binary[len(binary)-i-1])\n",
    "                                                                                                                                                                                                                                                                                \n",
    "    # QHACK #                                                                                                                                                                                                                                                                   \n",
    "    return arr"
   ]
  },
  {
   "cell_type": "code",
   "execution_count": 74,
   "id": "e23717f3",
   "metadata": {},
   "outputs": [
    {
     "data": {
      "text/plain": [
       "[0, 0, 0, 0, 0, 0, 1, 1, 0, 1]"
      ]
     },
     "execution_count": 74,
     "metadata": {},
     "output_type": "execute_result"
    }
   ],
   "source": [
    "binary_list(13,10)"
   ]
  },
  {
   "cell_type": "code",
   "execution_count": 104,
   "id": "2dd2e9d9",
   "metadata": {},
   "outputs": [],
   "source": [
    "                                                                                                                                         \n",
    "def basis_states(n):                                                                                                                     \n",
    "    \"\"\"Given a number n, returns a list of all binary_list(m,n) for m < 2**n, thus providing all basis states                            \n",
    "         for a circuit of n wires                                                                                                        \n",
    "                                                                                                                                         \n",
    "    Args:                                                                                                                                \n",
    "        - n(int): integer representing the number of wires in the circuit                                                                \n",
    "                                                                                                                                         \n",
    "    Returns:                                                                                                                             \n",
    "        - (list(list(int))): list of basis states represented as lists of 0s and 1s.                                                     \n",
    "    \"\"\"                                                                                                                                  \n",
    "                                                                                                                                         \n",
    "    arr = []                                                                                                                             \n",
    "                                                                                                                                         \n",
    "    # QHACK #\n",
    "    for m in range(2**n):                                                                                                            \n",
    "            arr.append(binary_list(m, n))                                                                                                \n",
    "    # QHACK #                                                                                                                            \n",
    "                                                                                                                                         \n",
    "    return arr  "
   ]
  },
  {
   "cell_type": "code",
   "execution_count": 105,
   "id": "314ee9fc",
   "metadata": {},
   "outputs": [
    {
     "data": {
      "text/plain": [
       "[[0, 0, 0],\n",
       " [0, 0, 1],\n",
       " [0, 1, 0],\n",
       " [0, 1, 1],\n",
       " [1, 0, 0],\n",
       " [1, 0, 1],\n",
       " [1, 1, 0],\n",
       " [1, 1, 1]]"
      ]
     },
     "execution_count": 105,
     "metadata": {},
     "output_type": "execute_result"
    }
   ],
   "source": [
    "basis_states(3)"
   ]
  },
  {
   "cell_type": "code",
   "execution_count": null,
   "id": "75022c32",
   "metadata": {},
   "outputs": [],
   "source": []
  }
 ],
 "metadata": {
  "kernelspec": {
   "display_name": "Python 3 (ipykernel)",
   "language": "python",
   "name": "python3"
  },
  "language_info": {
   "codemirror_mode": {
    "name": "ipython",
    "version": 3
   },
   "file_extension": ".py",
   "mimetype": "text/x-python",
   "name": "python",
   "nbconvert_exporter": "python",
   "pygments_lexer": "ipython3",
   "version": "3.7.10"
  }
 },
 "nbformat": 4,
 "nbformat_minor": 5
}
